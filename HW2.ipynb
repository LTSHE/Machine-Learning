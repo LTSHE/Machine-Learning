{
 "cells": [
  {
   "cell_type": "markdown",
   "metadata": {},
   "source": [
    "111401549吳欣庭\n",
    "Spaceship Titanic"
   ]
  },
  {
   "cell_type": "markdown",
   "metadata": {},
   "source": [
    "一、關於比賽"
   ]
  },
  {
   "cell_type": "markdown",
   "metadata": {},
   "source": [
    "#選擇\n",
    "一開始選擇的是Store Sales Prediction\n",
    "不過對於初入門的我來說\n",
    "好像有點太超綱了\n",
    "(詳情見底下的附錄)\n",
    "最後選擇老師推薦的，較簡單的，跟自身能力符合的Spaceship Titanic"
   ]
  },
  {
   "cell_type": "markdown",
   "metadata": {},
   "source": [
    "#資料概述\n",
    "Spaceship Titanic給的資料跟Titanic Survival相近\n",
    "只不過需要整理的資料多了很多欄\n",
    "空白資料也是分散且不少的\n",
    "所以處理起來相對複雜一些"
   ]
  },
  {
   "cell_type": "markdown",
   "metadata": {},
   "source": [
    "#資料說明\n",
    "PassengerId 乘客編碼(數字)\n",
    "HomePlanet 離開地(文字)\n",
    "CryoSleep 是否休眠(T/F)\n",
    "Cabin 艙室(數字)\n",
    "Destination 目的地(文字)\n",
    "Age 年齡(數字)\n",
    "VIP 特殊服務(T/F)\n",
    "RoomService/FoodCourt/ShoppingMall/Spa/VRDeck 服務(價錢)\n",
    "Name 姓名(文字)\n",
    "Transported 傳送成功(T/F)"
   ]
  },
  {
   "cell_type": "markdown",
   "metadata": {},
   "source": [
    "#目標\n",
    "PassengerId 乘客編碼(數字)\n",
    "Transported 傳送成功(T/F)"
   ]
  },
  {
   "cell_type": "markdown",
   "metadata": {},
   "source": [
    "二、實作"
   ]
  },
  {
   "cell_type": "code",
   "execution_count": null,
   "metadata": {},
   "outputs": [],
   "source": [
    "import pandas as pd\n",
    "import numpy as np\n",
    "import matplotlib.pyplot as plt\n",
    "import seaborn as sns"
   ]
  },
  {
   "cell_type": "markdown",
   "metadata": {},
   "source": [
    "導入train資料"
   ]
  },
  {
   "cell_type": "code",
   "execution_count": null,
   "metadata": {},
   "outputs": [],
   "source": [
    "df = pd.read_csv(\"spaceship_train.csv\")\n",
    "df.head()\n",
    "df.info()"
   ]
  },
  {
   "cell_type": "markdown",
   "metadata": {},
   "source": [
    "將姓名欄刪除"
   ]
  },
  {
   "cell_type": "code",
   "execution_count": null,
   "metadata": {},
   "outputs": [],
   "source": [
    "df.drop(['Name'],axis=1,inplace=True)\n",
    "df.head()"
   ]
  },
  {
   "cell_type": "markdown",
   "metadata": {},
   "source": [
    "觀察各個變數與Transported的關係"
   ]
  },
  {
   "cell_type": "code",
   "execution_count": null,
   "metadata": {},
   "outputs": [],
   "source": [
    "sns.pairplot(df[['Transported','HomePlanet']],dropna=True)\n",
    "sns.pairplot(df[['Transported','CryoSleep']],dropna=True)\n",
    "sns.pairplot(df[['Transported','Cabin']],dropna=True)\n",
    "sns.pairplot(df[['Transported','Destination']],dropna=True)\n",
    "sns.pairplot(df[['Transported','Age']],dropna=True)\n",
    "sns.pairplot(df[['Transported','VIP']],dropna=True)\n",
    "sns.pairplot(df[['Transported','RoomService']],dropna=True)\n",
    "sns.pairplot(df[['Transported','FoodCourt']],dropna=True)\n",
    "sns.pairplot(df[['Transported','ShoppingMall']],dropna=True)\n",
    "sns.pairplot(df[['Transported','Spa']],dropna=True)\n",
    "sns.pairplot(df[['Transported','VRDeck']],dropna=True)"
   ]
  },
  {
   "cell_type": "markdown",
   "metadata": {},
   "source": [
    "觀察數字類型數據與Transported的關係"
   ]
  },
  {
   "cell_type": "code",
   "execution_count": null,
   "metadata": {},
   "outputs": [],
   "source": [
    "df.groupby('Transported').mean(numeric_only=True)"
   ]
  },
  {
   "cell_type": "markdown",
   "metadata": {},
   "source": [
    "觀察空值和有沒有空值太多而可以直接刪掉的欄位\n",
    "->基本上每個欄位都有200個上下的空值，所以都沒有刪掉"
   ]
  },
  {
   "cell_type": "code",
   "execution_count": null,
   "metadata": {},
   "outputs": [],
   "source": [
    "df.isnull().sum()\n",
    "len(df)\n",
    "len(df)/2\n",
    "df.isnull().sum()>len(df)/2"
   ]
  },
  {
   "cell_type": "markdown",
   "metadata": {},
   "source": [
    "觀察每一個欄位中的數據分布\n",
    "->除了艙室之外，文字部分都只有三個選項"
   ]
  },
  {
   "cell_type": "code",
   "execution_count": null,
   "metadata": {},
   "outputs": [],
   "source": [
    "df['HomePlanet'].value_counts()\n",
    "df['CryoSleep'].value_counts()\n",
    "df['Cabin'].value_counts()\n",
    "df['Destination'].value_counts()\n",
    "df['Age'].value_counts()\n",
    "df['VIP'].value_counts()\n",
    "df['RoomService'].value_counts()\n",
    "df['FoodCourt'].value_counts()\n",
    "df['ShoppingMall'].value_counts()\n",
    "df['Spa'].value_counts()\n",
    "df['VRDeck'].value_counts()"
   ]
  },
  {
   "cell_type": "markdown",
   "metadata": {},
   "source": [
    "處理數字欄位的空值\n",
    "->年齡採用中位數\n",
    "->其他服務的價錢採用平均值"
   ]
  },
  {
   "cell_type": "code",
   "execution_count": null,
   "metadata": {},
   "outputs": [],
   "source": [
    "df['Age'].median()\n",
    "df['Age'].fillna(df['Age'].median(),inplace=True)\n",
    "df['RoomService'].mean()\n",
    "df['RoomService'].fillna(df['RoomService'].mean(),inplace=True)\n",
    "df['FoodCourt'].mean()\n",
    "df['FoodCourt'].fillna(df['FoodCourt'].mean(),inplace=True)\n",
    "df['ShoppingMall'].mean()\n",
    "df['ShoppingMall'].fillna(df['ShoppingMall'].mean(),inplace=True)\n",
    "df['Spa'].mean()\n",
    "df['Spa'].fillna(df['Spa'].mean(),inplace=True)\n",
    "df['VRDeck'].mean()\n",
    "df['VRDeck'].fillna(df['VRDeck'].mean(),inplace=True)"
   ]
  },
  {
   "cell_type": "markdown",
   "metadata": {},
   "source": [
    "處理文字欄為的空值\n",
    "->採用出現次數最多的"
   ]
  },
  {
   "cell_type": "code",
   "execution_count": null,
   "metadata": {},
   "outputs": [],
   "source": [
    "df['HomePlanet'].value_counts().idxmax()\n",
    "df['HomePlanet'].fillna(df['HomePlanet'].value_counts().idxmax(),inplace=True)\n",
    "df['CryoSleep'].value_counts().idxmax()\n",
    "df['CryoSleep'].fillna(df['CryoSleep'].value_counts().idxmax(),inplace=True)\n",
    "df['Destination'].value_counts().idxmax()\n",
    "df['Destination'].fillna(df['Destination'].value_counts().idxmax(),inplace=True)\n",
    "df['VIP'].value_counts().idxmax()\n",
    "df['VIP'].fillna(df['VIP'].value_counts().idxmax(),inplace=True)"
   ]
  },
  {
   "cell_type": "markdown",
   "metadata": {},
   "source": [
    "艙等欄位刪除\n",
    "->艙室編碼繁雜且不重複，無法用出現次數最多的值填空值"
   ]
  },
  {
   "cell_type": "code",
   "execution_count": null,
   "metadata": {},
   "outputs": [],
   "source": [
    "df.drop(['Cabin'],axis=1,inplace=True)"
   ]
  },
  {
   "cell_type": "markdown",
   "metadata": {},
   "source": [
    "觀察空值是否解決"
   ]
  },
  {
   "cell_type": "code",
   "execution_count": null,
   "metadata": {},
   "outputs": [],
   "source": [
    "df.isnull().sum()"
   ]
  },
  {
   "cell_type": "markdown",
   "metadata": {},
   "source": [
    "將非數字的欄位進行格式轉換"
   ]
  },
  {
   "cell_type": "code",
   "execution_count": null,
   "metadata": {},
   "outputs": [],
   "source": [
    "df=pd.get_dummies(data=df,dtype=int,columns=['HomePlanet','CryoSleep','Destination','VIP'])\n",
    "df.head()"
   ]
  },
  {
   "cell_type": "markdown",
   "metadata": {},
   "source": [
    "將Transported與其他資料區分"
   ]
  },
  {
   "cell_type": "code",
   "execution_count": null,
   "metadata": {},
   "outputs": [],
   "source": [
    "df.corr()\n",
    "x = df.drop(['Transported'],axis=1)\n",
    "y = df['Transported']"
   ]
  },
  {
   "cell_type": "markdown",
   "metadata": {},
   "source": [
    "分訓練和測試資料"
   ]
  },
  {
   "cell_type": "code",
   "execution_count": null,
   "metadata": {},
   "outputs": [],
   "source": [
    "from sklearn.model_selection import train_test_split\n",
    "x_train,x_test,y_train,y_test=train_test_split(x,y,test_size=0.3,random_state=67)"
   ]
  },
  {
   "cell_type": "markdown",
   "metadata": {},
   "source": [
    "訓練模型"
   ]
  },
  {
   "cell_type": "code",
   "execution_count": null,
   "metadata": {},
   "outputs": [],
   "source": [
    "from sklearn.linear_model import LogisticRegression\n",
    "lr=LogisticRegression(max_iter=200)\n",
    "lr.fit(x_train,y_train)\n",
    "predictions=lr.predict(x_test)"
   ]
  },
  {
   "cell_type": "markdown",
   "metadata": {},
   "source": [
    "評估模型"
   ]
  },
  {
   "cell_type": "code",
   "execution_count": null,
   "metadata": {},
   "outputs": [],
   "source": [
    "from sklearn.metrics import confusion_matrix,accuracy_score,recall_score,precision_score\n",
    "accuracy_score(y_test,predictions)\n",
    "recall_score(y_test,predictions)\n",
    "precision_score(y_test,predictions)\n",
    "pd.DataFrame(confusion_matrix(y_test,predictions),columns=['Predict not Transported','Predict Transported'],index=['True not Transported','True Transported'])"
   ]
  },
  {
   "cell_type": "markdown",
   "metadata": {},
   "source": [
    "模型輸出"
   ]
  },
  {
   "cell_type": "code",
   "execution_count": null,
   "metadata": {},
   "outputs": [],
   "source": [
    "import joblib\n",
    "joblib.dump(lr,'spaceship_model.pkl',compress=3)"
   ]
  },
  {
   "cell_type": "markdown",
   "metadata": {},
   "source": [
    "使用模型"
   ]
  },
  {
   "cell_type": "code",
   "execution_count": null,
   "metadata": {},
   "outputs": [],
   "source": [
    "import joblib\n",
    "model_pretained=joblib.load('spaceship_model.pkl')"
   ]
  },
  {
   "cell_type": "markdown",
   "metadata": {},
   "source": [
    "導入測試資料"
   ]
  },
  {
   "cell_type": "code",
   "execution_count": null,
   "metadata": {},
   "outputs": [],
   "source": [
    "import pandas as pd\n",
    "df_test=pd.read_csv(\"spaceship_test.csv\")"
   ]
  },
  {
   "cell_type": "markdown",
   "metadata": {},
   "source": [
    "把姓名和艙室欄位去掉"
   ]
  },
  {
   "cell_type": "code",
   "execution_count": null,
   "metadata": {},
   "outputs": [],
   "source": [
    "df_test.drop(['Name'],axis=1,inplace=True)\n",
    "df_test.drop(['Cabin'],axis=1,inplace=True)"
   ]
  },
  {
   "cell_type": "markdown",
   "metadata": {},
   "source": [
    "將測試資料轉成訓練資料(模型使用)的樣子"
   ]
  },
  {
   "cell_type": "code",
   "execution_count": null,
   "metadata": {},
   "outputs": [],
   "source": [
    "df_test['Age'].median()\n",
    "df_test['Age'].fillna(df_test['Age'].median(),inplace=True)\n",
    "df_test['RoomService'].mean()\n",
    "df_test['RoomService'].fillna(df_test['RoomService'].mean(),inplace=True)\n",
    "df_test['FoodCourt'].mean()\n",
    "df_test['FoodCourt'].fillna(df_test['FoodCourt'].mean(),inplace=True)\n",
    "df_test['ShoppingMall'].mean()\n",
    "df_test['ShoppingMall'].fillna(df_test['ShoppingMall'].mean(),inplace=True)\n",
    "df_test['Spa'].mean()\n",
    "df_test['Spa'].fillna(df_test['Spa'].mean(),inplace=True)\n",
    "df_test['VRDeck'].mean()\n",
    "df_test['VRDeck'].fillna(df_test['VRDeck'].mean(),inplace=True)\n",
    "df_test['HomePlanet'].value_counts().idxmax()\n",
    "df_test['HomePlanet'].fillna(df_test['HomePlanet'].value_counts().idxmax(),inplace=True)\n",
    "df_test['CryoSleep'].value_counts().idxmax()\n",
    "df_test['CryoSleep'].fillna(df_test['CryoSleep'].value_counts().idxmax(),inplace=True)\n",
    "df_test['Destination'].value_counts().idxmax()\n",
    "df_test['Destination'].fillna(df_test['Destination'].value_counts().idxmax(),inplace=True)\n",
    "df_test['VIP'].value_counts().idxmax()\n",
    "df_test['VIP'].fillna(df_test['VIP'].value_counts().idxmax(),inplace=True)\n",
    "df_test=pd.get_dummies(data=df_test,dtype=int,columns=['HomePlanet','CryoSleep','Destination','VIP'])"
   ]
  },
  {
   "cell_type": "markdown",
   "metadata": {},
   "source": [
    "執行"
   ]
  },
  {
   "cell_type": "code",
   "execution_count": null,
   "metadata": {},
   "outputs": [],
   "source": [
    "predictions2=model_pretained.predict(df_test)\n",
    "predictions2"
   ]
  },
  {
   "cell_type": "markdown",
   "metadata": {},
   "source": [
    "生成csv檔和匯出"
   ]
  },
  {
   "cell_type": "code",
   "execution_count": null,
   "metadata": {},
   "outputs": [],
   "source": [
    "forSubmissionDF=pd.DataFrame(columns=['PassengerId','Transported'])\n",
    "forSubmissionDF['PassengerId'] = df_test['PassengerId']\n",
    "forSubmissionDF['Transported'] = predictions2\n",
    "forSubmissionDF\n",
    "forSubmissionDF.to_csv('spaceship_submission_1.csv',index=False)"
   ]
  },
  {
   "cell_type": "markdown",
   "metadata": {},
   "source": [
    "三、過程"
   ]
  },
  {
   "cell_type": "markdown",
   "metadata": {},
   "source": [
    "#資料清理\n",
    "與Titanic Survive最大的不同是空值\n",
    "->每一個欄位都有空值\n",
    "->每一個欄位空值數目都差不多\n",
    "->每一個欄位皆須進行空值處理"
   ]
  },
  {
   "cell_type": "markdown",
   "metadata": {},
   "source": [
    "#小狀況\n",
    "->艙室欄位由房號/編號/左右三個小元素組成，有獨特性，無法補齊空值\n",
    "->最後生成csv檔的時候，PassengerId非單純數字，需抓出原test檔的該欄位"
   ]
  },
  {
   "cell_type": "markdown",
   "metadata": {},
   "source": [
    "四、結果"
   ]
  },
  {
   "cell_type": "markdown",
   "metadata": {},
   "source": [
    "#成績\n",
    "0.78045\n",
    "(比想像中高，好像比titanic survive高一點)"
   ]
  },
  {
   "cell_type": "markdown",
   "metadata": {},
   "source": [
    "#改善\n",
    "艙室資料直接刪除\n",
    "->可以將三個小元素變成三個欄位分開分析\n",
    "特殊服務的價錢採總平均值瑱入\n",
    "->可以根據是否為VIP做出其他分類平均值填入\n",
    "出發地與目的地的空值蔡出現次數最多的值填入\n",
    "->可以依照Id裡的團體編號進行改動"
   ]
  },
  {
   "cell_type": "markdown",
   "metadata": {},
   "source": [
    "附錄：一個自不量力的故事。。。\n",
    "\n",
    "在進去Kaggle後\n",
    "\"Store Sales Prediction\"直接進到我的眼睛\n",
    "企管系的身分告訴我\n",
    "就是他了！\n",
    "\n",
    "進去看了資料以後\n",
    "發現這個好！複！雜！\n",
    "一般只會有一個train的檔案\n",
    "他除了有train的檔案\n",
    "還有油價，節假日，商店等等的檔案\n",
    "甚至還有其他資訊要處理\n",
    "不過我還是開始了\n",
    "\n",
    "在上網看了許多類似(？)這題的解說\n",
    "和花費了不少時間理解資料的內容後\n",
    "我打開了python\n",
    "再把全部資料都讀進去後\n",
    "我迷茫了\n",
    "要怎麼把兩個檔案的資料集合起來？\n",
    "要怎麼把每個月的15號跟最後一天抓出來？\n",
    "商店的各個資訊到底有甚麼意義？\n",
    "......？\n",
    "......？\n",
    "......？\n",
    "\n",
    "總而言之\n",
    "在最後的最後\n",
    "我認清了自己的能力\n",
    "放棄了這個不屬於現階段的我的題目\n",
    "用現有的能力\n",
    "把Spaceship Titanic做到最好"
   ]
  }
 ],
 "metadata": {
  "kernelspec": {
   "display_name": "Python 3",
   "language": "python",
   "name": "python3"
  },
  "language_info": {
   "codemirror_mode": {
    "name": "ipython",
    "version": 3
   },
   "file_extension": ".py",
   "mimetype": "text/x-python",
   "name": "python",
   "nbconvert_exporter": "python",
   "pygments_lexer": "ipython3",
   "version": "3.10.7"
  }
 },
 "nbformat": 4,
 "nbformat_minor": 2
}
